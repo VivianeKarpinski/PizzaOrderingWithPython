{
 "cells": [
  {
   "cell_type": "markdown",
   "metadata": {},
   "source": [
    "<h3><center>🍕 PIZZA ORDERING WITH PYTHON</center></h3>"
   ]
  },
  {
   "cell_type": "code",
   "execution_count": null,
   "metadata": {},
   "outputs": [],
   "source": [
    "print(\"Thank you for choosing Python Pizza Deliveries!\")\n",
    "size = input(\"What size pizza do you want? S, M, or L \\n\") # What size pizza do you want? S, M, or L\n",
    "add_pepperoni = input(\"Do you want pepperoni? Y or N \\n\") # Do you want pepperoni? Y or N\n",
    "extra_cheese = input(\"Do you want extra cheese? Y or N \\n\") # Do you want extra cheese? Y or N\n",
    "# 🚨 Don't change the code above 👆\n",
    "# Write your code below this line 👇\n",
    "bill = 0\n",
    "\n",
    "#Coding for small pizza\n",
    "if size == \"S\":\n",
    "  bill = 15\n",
    "  if add_pepperoni == \"Y\":\n",
    "    bill += 2\n",
    "  else:\n",
    "    bill = bill\n",
    "\n",
    "  if extra_cheese == \"Y\":\n",
    "    bill += 1\n",
    "  else:\n",
    "    bill = bill\n",
    "  print(f\"Your final bill is ${bill}\")\n",
    "\n",
    "#if pizza isn't small check if it is medium:\n",
    "elif size == \"M\":\n",
    "    bill = 20\n",
    "    if add_pepperoni == \"Y\":\n",
    "      bill += 3\n",
    "    else:\n",
    "      bill = bill\n",
    "    if extra_cheese == \"Y\":\n",
    "      bill += 1\n",
    "    else:\n",
    "      bill = bill\n",
    "    print(f\"Your final bill is: ${bill}\")\n",
    "else:\n",
    "  bill = 25\n",
    "  if add_pepperoni == \"Y\":\n",
    "    bill += 3\n",
    "  else:\n",
    "    bill = bill\n",
    "  if extra_cheese == \"Y\":\n",
    "    bill += 1\n",
    "  else:\n",
    "    bill = bill\n",
    "  print(f\"Your final bill is: ${bill}\")"
   ]
  }
 ],
 "metadata": {
  "language_info": {
   "name": "python"
  }
 },
 "nbformat": 4,
 "nbformat_minor": 2
}
